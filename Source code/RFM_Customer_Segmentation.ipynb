{
 "cells": [
  {
   "cell_type": "code",
   "execution_count": null,
   "id": "4a56f4a3",
   "metadata": {},
   "outputs": [],
   "source": [
    "import numpy as np \n",
    "import pandas as pd \n",
    "import pandas as pd\n",
    "import seaborn as sns\n",
    "import matplotlib.pyplot as plt\n",
    "import datetime as dt\n",
    "from datetime import timedelta\n",
    "\n",
    "import warnings\n",
    "warnings.filterwarnings(\"ignore\")\n",
    "warnings.simplefilter(action='ignore', category=FutureWarning)\n",
    "warnings.simplefilter(action='ignore', category=DeprecationWarning)\n",
    "\n",
    "from data_prep import *\n",
    "from eda import *"
   ]
  },
  {
   "cell_type": "code",
   "execution_count": null,
   "id": "ed82cd2c",
   "metadata": {},
   "outputs": [],
   "source": [
    "# Import Data:\n",
    "df = pd.read_csv(\"./data/Year 2010-2011.csv\")\n",
    "\n",
    "df.head()"
   ]
  },
  {
   "cell_type": "code",
   "execution_count": null,
   "id": "5cca4893",
   "metadata": {},
   "outputs": [],
   "source": [
    "check_df(df)"
   ]
  },
  {
   "cell_type": "code",
   "execution_count": null,
   "id": "1071721d",
   "metadata": {},
   "outputs": [],
   "source": [
    "# Categorical / Numerical / Cardinal Features: \n",
    "\n",
    "cat_cols, num_cols, cat_but_car = grab_col_names(df)\n",
    "num_cols = [col for col in num_cols if (\"ID\" not in col) and (\"Date\" not in col) ]"
   ]
  },
  {
   "cell_type": "code",
   "execution_count": null,
   "id": "815436b4",
   "metadata": {},
   "outputs": [],
   "source": [
    "# Let's observe  numerical columns: \n",
    "\n",
    "for col in num_cols:\n",
    "    num_summary(df,col)"
   ]
  },
  {
   "cell_type": "code",
   "execution_count": null,
   "id": "e7e3f447",
   "metadata": {},
   "outputs": [],
   "source": [
    "# Missing Values:\n",
    "\n",
    "missing_values_table(df)"
   ]
  },
  {
   "cell_type": "code",
   "execution_count": null,
   "id": "5ebab709",
   "metadata": {},
   "outputs": [],
   "source": [
    "# Drop NA values:\n",
    "\n",
    "df.dropna(inplace=True)\n",
    "missing_values_table(df)"
   ]
  },
  {
   "cell_type": "code",
   "execution_count": null,
   "id": "b1434ba4",
   "metadata": {},
   "outputs": [],
   "source": [
    "# Let's remove the returned product transactions (negative values -> Invoice Id contains value \"C\")\n",
    "\n",
    "df_Invoice = pd.DataFrame({\"Invoice\":[row for row in df[\"Invoice\"].values if \"C\"  not in str(row)]})\n",
    "df_Invoice.head()\n",
    "df_Invoice = df_Invoice.drop_duplicates(\"Invoice\")\n",
    "df = df.merge(df_Invoice, on = \"Invoice\")"
   ]
  },
  {
   "cell_type": "code",
   "execution_count": null,
   "id": "5850e3f1",
   "metadata": {},
   "outputs": [],
   "source": [
    "df = df[df[\"Quantity\"] > 0]\n",
    "df = df[df[\"Price\"] > 0]"
   ]
  },
  {
   "cell_type": "code",
   "execution_count": null,
   "id": "b6838022",
   "metadata": {},
   "outputs": [],
   "source": [
    "# Unique Number of Products (with Description)\n",
    "df.Description.nunique()"
   ]
  },
  {
   "cell_type": "code",
   "execution_count": null,
   "id": "07488396",
   "metadata": {},
   "outputs": [],
   "source": [
    "# Unique Number of Products (with StockCode)\n",
    "df.StockCode.nunique()"
   ]
  },
  {
   "cell_type": "code",
   "execution_count": null,
   "id": "fdc0a2c2",
   "metadata": {},
   "outputs": [],
   "source": [
    "# The unique values of these 2 variables (Description & StockCode) should be equal, because each stock code represents a product.\n",
    "\n",
    "df_product = df[[\"Description\",\"StockCode\"]].drop_duplicates()\n",
    "df_product = df_product.groupby([\"Description\"]).agg({\"StockCode\":\"count\"}).reset_index()\n",
    "\n",
    "df_product.rename(columns={'StockCode':'StockCode_Count'},inplace=True)\n",
    "df_product.head()"
   ]
  },
  {
   "cell_type": "code",
   "execution_count": null,
   "id": "6f874529",
   "metadata": {},
   "outputs": [],
   "source": [
    "df_product = df_product.sort_values(\"StockCode_Count\", ascending=False)\n",
    "df_product = df_product[df_product[\"StockCode_Count\"]>1]\n",
    "\n",
    "df_product.head()"
   ]
  },
  {
   "cell_type": "code",
   "execution_count": null,
   "id": "252e500f",
   "metadata": {},
   "outputs": [],
   "source": [
    "# Let's delete products with more than one stock code \n",
    "\n",
    "df = df[~df[\"Description\"].isin(df_product[\"Description\"])]\n",
    "\n",
    "print(df.StockCode.nunique())\n",
    "print(df.Description.nunique())"
   ]
  },
  {
   "cell_type": "code",
   "execution_count": null,
   "id": "6f28ac99",
   "metadata": {},
   "outputs": [],
   "source": [
    "df_product = df[[\"Description\",\"StockCode\"]].drop_duplicates()\n",
    "df_product = df_product.groupby([\"StockCode\"]).agg({\"Description\":\"count\"}).reset_index()\n",
    "df_product.rename(columns={'Description':'Description_Count'},inplace=True)\n",
    "df_product = df_product.sort_values(\"Description_Count\", ascending=False)\n",
    "df_product = df_product[df_product[\"Description_Count\"] > 1] \n",
    "\n",
    "\n",
    "df_product.head()"
   ]
  },
  {
   "cell_type": "code",
   "execution_count": null,
   "id": "dc8ead2c",
   "metadata": {},
   "outputs": [],
   "source": [
    "# Let's delete stock codes that represent multiple products\n",
    "df = df[~df[\"StockCode\"].isin(df_product[\"StockCode\"])]"
   ]
  },
  {
   "cell_type": "code",
   "execution_count": null,
   "id": "7bd61117",
   "metadata": {},
   "outputs": [],
   "source": [
    "# Now each stock code represents a single product\n",
    "\n",
    "print(df.StockCode.nunique())\n",
    "print(df.Description.nunique())"
   ]
  },
  {
   "cell_type": "code",
   "execution_count": null,
   "id": "acd757c7",
   "metadata": {},
   "outputs": [],
   "source": [
    "# The post statement in the stock code shows the postage cost, let's delete it as it is not a product\n",
    "df = df[~df[\"StockCode\"].str.contains(\"POST\", na=False)]"
   ]
  },
  {
   "cell_type": "code",
   "execution_count": null,
   "id": "0c9707fc",
   "metadata": {},
   "outputs": [],
   "source": [
    "# Calculating Total Price:\n",
    "df['TotalPrice'] = df['Quantity'] * df['Price']"
   ]
  },
  {
   "cell_type": "code",
   "execution_count": null,
   "id": "45c62a50",
   "metadata": {},
   "outputs": [],
   "source": [
    "df.head()"
   ]
  },
  {
   "cell_type": "markdown",
   "id": "867bc189",
   "metadata": {},
   "source": [
    "# RFM analysis"
   ]
  },
  {
   "cell_type": "code",
   "execution_count": null,
   "id": "539944c2",
   "metadata": {},
   "outputs": [],
   "source": [
    "df.info()"
   ]
  },
  {
   "cell_type": "code",
   "execution_count": null,
   "id": "cd14ad8e",
   "metadata": {},
   "outputs": [],
   "source": [
    "# Let's observe the last transaction date.\n",
    "# So we can determine the performans/measurement date for calculating how recent a customer's latest purchase was.\n",
    "\n",
    "df['InvoiceDate'] = pd.to_datetime(df['InvoiceDate'])\n",
    "df['InvoiceDate'].max()"
   ]
  },
  {
   "cell_type": "code",
   "execution_count": null,
   "id": "a545e844",
   "metadata": {},
   "outputs": [],
   "source": [
    "# Assign \"performans_date\" as 2 days after the last transaction date of purchase:\n",
    "\n",
    "performans_date = df[\"InvoiceDate\"].max() + timedelta(days=2)\n",
    "performans_date"
   ]
  },
  {
   "cell_type": "code",
   "execution_count": null,
   "id": "ab27a358",
   "metadata": {},
   "outputs": [],
   "source": [
    "rfm_df = df.groupby(\"Customer ID\").agg \\\n",
    "                                    ({\"InvoiceDate\" : lambda InvoiceDate :(performans_date - InvoiceDate.max()).days,  # Recency\n",
    "                                     \"Invoice\" : lambda Invoice: Invoice.nunique(),  # Frequency\n",
    "                                     \"TotalPrice\":  lambda Total_Price: Total_Price.sum()})    # Monetary"
   ]
  },
  {
   "cell_type": "code",
   "execution_count": null,
   "id": "f464f2ed",
   "metadata": {},
   "outputs": [],
   "source": [
    "rfm_df.head()"
   ]
  },
  {
   "cell_type": "code",
   "execution_count": null,
   "id": "a9ba2a93",
   "metadata": {},
   "outputs": [],
   "source": [
    "# Replace column names with Recency, Frequency and Monetary:\n",
    "\n",
    "rfm_df.columns = ['recency', 'frequency', 'monetary']\n",
    "\n",
    "rfm_df.head()"
   ]
  },
  {
   "cell_type": "code",
   "execution_count": null,
   "id": "a862d1c4",
   "metadata": {},
   "outputs": [],
   "source": [
    "# Let's check if the values inclued any NaN values:\n",
    "\n",
    "check_df(rfm_df)"
   ]
  },
  {
   "cell_type": "markdown",
   "id": "a1ddb47c",
   "metadata": {},
   "source": [
    "# Assigning RFM Scores"
   ]
  },
  {
   "cell_type": "code",
   "execution_count": null,
   "id": "2df89820",
   "metadata": {},
   "outputs": [],
   "source": [
    "rfm_df[\"Recency_Score\"]  = pd.qcut(rfm_df['recency'], 5, [5,4,3,2,1])\n",
    "rfm_df[\"Frequency_Score\"]  = pd.qcut(rfm_df['frequency'].rank(method=\"first\"), 5, [1, 2, 3, 4, 5])\n",
    "rfm_df[\"Monetary_Score\"]  = pd.qcut(rfm_df['monetary'], 5, [1, 2, 3, 4, 5])"
   ]
  },
  {
   "cell_type": "code",
   "execution_count": null,
   "id": "44d907f2",
   "metadata": {},
   "outputs": [],
   "source": [
    "rfm_df[\"RFM_SCORE\"] = (rfm_df['Recency_Score'].astype(str) +\n",
    "                    rfm_df['Frequency_Score'].astype(str)+\n",
    "                    rfm_df['Monetary_Score'].astype(str) )\n",
    "\n",
    "rfm_df.head() "
   ]
  },
  {
   "cell_type": "code",
   "execution_count": null,
   "id": "3074f5e3",
   "metadata": {},
   "outputs": [],
   "source": [
    "rfm_df['Segment'] = rfm_df['RFM_SCORE']\n",
    "rfm_df.head()"
   ]
  },
  {
   "cell_type": "code",
   "execution_count": null,
   "id": "39b2b400",
   "metadata": {},
   "outputs": [],
   "source": [
    "seg_map = {\n",
    "    r'5[4-5][4-5]': 'Champions',\n",
    "    r'[3-5][4-5][4-5]': 'Loyal customers',\n",
    "    r'[3-5][2-3][3-5]': 'Potential loyalists',\n",
    "    r'[3-5][3-5][3-5]': 'Need attention',    \n",
    "    r'[1-5][3-5][1-5]': 'Normal Customer', \n",
    "    r'[1-2][3-5][1-2]': 'Small basket size',\n",
    "    r'5[1-5][1-5]': 'New customers',\n",
    "    r'4[1-5][1-2]': 'Promising small money',\n",
    "    r'4[1-5][3-5]': 'Promising big money',\n",
    "    r'[1-2][1-2][4-5]': 'Long time big buy',\n",
    "    r'[2-3][1-3][1-5]': 'At Risk',\n",
    "    r'[1-2][1-2][1-3]': 'Hibernating',\n",
    "}\n"
   ]
  },
  {
   "cell_type": "code",
   "execution_count": null,
   "id": "2bdd807c",
   "metadata": {},
   "outputs": [],
   "source": [
    "rfm_df['Segment'] = rfm_df['Segment'].replace(seg_map, regex=True)\n",
    "rfm_df.reset_index(inplace=True)\n",
    "rfm_df.head()"
   ]
  },
  {
   "cell_type": "code",
   "execution_count": null,
   "id": "3bebc0c3",
   "metadata": {},
   "outputs": [],
   "source": [
    "rfm_df.groupby('Segment').agg({\"Customer ID\":\"count\"}).sort_values(\"Customer ID\",ascending=False)"
   ]
  },
  {
   "cell_type": "code",
   "execution_count": null,
   "id": "cff9235d",
   "metadata": {},
   "outputs": [],
   "source": [
    "rfm_df.groupby('Segment').agg({\"Customer ID\":\"count\"}).sort_values(\"Customer ID\",ascending=False).to_csv(\"ada.csv\")"
   ]
  },
  {
   "cell_type": "code",
   "execution_count": null,
   "id": "0ce540e1",
   "metadata": {},
   "outputs": [],
   "source": [
    "import matplotlib.pyplot as plt\n",
    "\n",
    "colors = (\"darkorange\", \"darkseagreen\", \"orange\", \"cyan\", \"cadetblue\", \"hotpink\", \"lightsteelblue\", \"coral\", \"mediumaquamarine\", \"palegoldenrod\", \"lightcoral\")\n",
    "explodes = [0.1] * 11  # Adjust explosion values as needed\n",
    "\n",
    "# Assuming rfm_df[\"Segment\"] contains the segment names\n",
    "rfm_df[\"Segment\"].value_counts(sort=False).plot.pie(colors=colors,\n",
    "                                                    textprops={'fontsize': 12},\n",
    "                                                    autopct='%4.1f',\n",
    "                                                    startangle=90,\n",
    "                                                    radius=2,\n",
    "                                                    rotatelabels=True,\n",
    "                                                    shadow=True,\n",
    "                                                    explode=explodes)\n",
    "\n",
    "plt.ylabel(\"\")\n",
    "plt.show()"
   ]
  },
  {
   "cell_type": "code",
   "execution_count": null,
   "id": "22e2f2e8",
   "metadata": {},
   "outputs": [],
   "source": [
    "rfm_df.to_csv(\"RFM_customer_segment.csv\")"
   ]
  },
  {
   "cell_type": "code",
   "execution_count": null,
   "id": "224b55e9",
   "metadata": {},
   "outputs": [],
   "source": []
  }
 ],
 "metadata": {
  "kernelspec": {
   "display_name": "Python [conda env:ai_env]",
   "language": "python",
   "name": "conda-env-ai_env-py"
  },
  "language_info": {
   "codemirror_mode": {
    "name": "ipython",
    "version": 3
   },
   "file_extension": ".py",
   "mimetype": "text/x-python",
   "name": "python",
   "nbconvert_exporter": "python",
   "pygments_lexer": "ipython3",
   "version": "3.7.16"
  }
 },
 "nbformat": 4,
 "nbformat_minor": 5
}
